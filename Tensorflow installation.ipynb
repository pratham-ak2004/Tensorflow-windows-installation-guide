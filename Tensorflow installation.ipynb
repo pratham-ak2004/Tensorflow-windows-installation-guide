{
 "cells": [
  {
   "cell_type": "markdown",
   "metadata": {},
   "source": [
    "# Prerequisite"
   ]
  },
  {
   "cell_type": "code",
   "execution_count": null,
   "metadata": {},
   "outputs": [],
   "source": [
    "## The required packages for this project are listed below\n",
    "## Download and install CUDA and cudNN as mentioned\n",
    "\n",
    "## python 3.10.11\n",
    "## tensorflow garden repo url : https://github.com/tensorflow/models/tree/master\n",
    "## cuda 11.2 : https://developer.nvidia.com/cuda-11.2.0-download-archive\n",
    "## cudNN 8.1 : https://developer.nvidia.com/rdp/cudnn-archive , windows : https://developer.nvidia.com/compute/machine-learning/cudnn/secure/8.1.1.33/11.2_20210301/cudnn-11.2-windows-x64-v8.1.1.33.zip\n",
    "## python 3.10 : https://www.python.org/ftp/python/3.10.11/python-3.10.11-amd64.exe\n",
    "## protocol buffer url : https://github.com/protocolbuffers/protobuf/releases?q=&expanded=true\n",
    "## protocol buffer v3.19.6 : https://github.com/protocolbuffers/protobuf/releases/download/v3.19.6/protoc-3.19.6-win64.zip\n",
    "## tensorflow && tensorflow-gpu : version == 2.10.0\n",
    "## protobuf == 3.19.6\n",
    "\n",
    "## Pre install MinGW or Msys in your computer for tar and c/c++ commands"
   ]
  },
  {
   "cell_type": "markdown",
   "metadata": {},
   "source": [
    "# Setup paths"
   ]
  },
  {
   "cell_type": "code",
   "execution_count": null,
   "metadata": {},
   "outputs": [],
   "source": [
    "import os"
   ]
  },
  {
   "cell_type": "code",
   "execution_count": null,
   "metadata": {},
   "outputs": [],
   "source": [
    "PROTOCOL_BUFFER_URL = \"https://github.com/protocolbuffers/protobuf/releases/download/v3.19.6/protoc-3.19.6-win64.zip\"\n",
    "PROTOCOL_BUFFER_NAME = \"protoc-3.19.6-win64.zip\"\n",
    "TENSORFLOW_GARDEN = \"https://github.com/tensorflow/models\""
   ]
  },
  {
   "cell_type": "code",
   "execution_count": null,
   "metadata": {},
   "outputs": [],
   "source": [
    "paths = {\n",
    "    \"GARDEN_PATH\" : os.path.join(\"Tensorflow\",\"garden\"),\n",
    "    \"PROTOC_PATH\" : os.path.join(\"Tensorflow\",\"protoc\"),\n",
    "}"
   ]
  },
  {
   "cell_type": "code",
   "execution_count": null,
   "metadata": {},
   "outputs": [],
   "source": [
    "files = {\n",
    "    \"PROTOC_ZIP\" : os.path.join(paths[\"PROTOC_PATH\"],PROTOCOL_BUFFER_NAME),\n",
    "    \"GARDEN_VERIFIER\" : os.path.join(paths[\"GARDEN_PATH\"],\"research\", \"object_detection\" , \"builders\" , \"model_builder_tf2_test.py\")\n",
    "}"
   ]
  },
  {
   "cell_type": "code",
   "execution_count": null,
   "metadata": {},
   "outputs": [],
   "source": [
    "for path in paths.values():\n",
    "    if not os.path.exists(path):\n",
    "        os.makedirs(path)"
   ]
  },
  {
   "cell_type": "markdown",
   "metadata": {},
   "source": [
    "# Clone Tensorflow Garden"
   ]
  },
  {
   "cell_type": "code",
   "execution_count": null,
   "metadata": {},
   "outputs": [],
   "source": [
    "## tensorflow repository : https://github.com/tensorflow/models"
   ]
  },
  {
   "cell_type": "code",
   "execution_count": null,
   "metadata": {},
   "outputs": [],
   "source": [
    "if not os.path.exists(os.path.join(paths[\"GARDEN_PATH\"],\"README.md\")) and not os.path.exists(os.path.join(paths[\"GARDEN_PATH\"],\"research\")):\n",
    "    !git clone {TENSORFLOW_GARDEN} {paths[\"GARDEN_PATH\"]}"
   ]
  },
  {
   "cell_type": "markdown",
   "metadata": {},
   "source": [
    "# Setup Protocol buffer"
   ]
  },
  {
   "cell_type": "code",
   "execution_count": null,
   "metadata": {},
   "outputs": [],
   "source": [
    "!pip install wget\n",
    "import wget"
   ]
  },
  {
   "cell_type": "code",
   "execution_count": null,
   "metadata": {},
   "outputs": [],
   "source": [
    "import zipfile\n",
    "\n",
    "if not os.path.exists(os.path.join(paths[\"PROTOC_PATH\"] , \"bin\")):\n",
    "    ## download protocol buffer\n",
    "    wget.download(PROTOCOL_BUFFER_URL)\n",
    "    !move {PROTOCOL_BUFFER_NAME} {paths[\"PROTOC_PATH\"]}\n",
    "\n",
    "    ## extract protocol buffer\n",
    "    with zipfile.ZipFile(files[\"PROTOC_ZIP\"], 'r') as zip_ref:\n",
    "        zip_ref.extractall(paths[\"PROTOC_PATH\"])\n",
    "\n",
    "    os.remove(files[\"PROTOC_ZIP\"])\n",
    "\n",
    "    ## add protocol buffer to path\n",
    "    os.environ['PATH'] += os.pathsep + os.path.abspath(os.path.join(paths['PROTOC_PATH'], 'bin'))"
   ]
  },
  {
   "cell_type": "code",
   "execution_count": null,
   "metadata": {},
   "outputs": [],
   "source": [
    "## install protocol buffer\n",
    "!cd {os.path.join(paths[\"GARDEN_PATH\"],\"research\")} && protoc object_detection/protos/*.proto --python_out=. && copy object_detection\\\\packages\\\\tf2\\\\setup.py setup.py && python setup.py build && python setup.py install\n",
    "!cd {os.path.join(paths[\"GARDEN_PATH\"],\"research\",\"slim\")} && pip install -e ."
   ]
  },
  {
   "cell_type": "markdown",
   "metadata": {},
   "source": [
    "# Tensorflow installation"
   ]
  },
  {
   "cell_type": "code",
   "execution_count": null,
   "metadata": {},
   "outputs": [],
   "source": [
    "!pip install tensorflow==2.10.0\n",
    "!pip install tensorflow-gpu==2.10.0"
   ]
  },
  {
   "cell_type": "code",
   "execution_count": null,
   "metadata": {},
   "outputs": [],
   "source": [
    "!pip uninstall -y protobuf matplotlib\n",
    "!pip install matplotlib\n",
    "!pip install protobuf==3.20.0"
   ]
  },
  {
   "cell_type": "code",
   "execution_count": null,
   "metadata": {},
   "outputs": [],
   "source": [
    "## Verification script\n",
    "!python {files[\"GARDEN_VERIFIER\"]}"
   ]
  },
  {
   "cell_type": "code",
   "execution_count": null,
   "metadata": {},
   "outputs": [],
   "source": [
    "##  run this cell if you get no module error\n",
    "## No module named 'yaml'\n",
    "!pip install pyyaml "
   ]
  },
  {
   "cell_type": "markdown",
   "metadata": {},
   "source": [
    "## Test Tensorflow installation for GPU"
   ]
  },
  {
   "cell_type": "code",
   "execution_count": null,
   "metadata": {},
   "outputs": [],
   "source": [
    "import tensorflow as tf\n",
    "tf.config.list_physical_devices()"
   ]
  }
 ],
 "metadata": {
  "kernelspec": {
   "display_name": "tfinstall",
   "language": "python",
   "name": "python3"
  },
  "language_info": {
   "codemirror_mode": {
    "name": "ipython",
    "version": 3
   },
   "file_extension": ".py",
   "mimetype": "text/x-python",
   "name": "python",
   "nbconvert_exporter": "python",
   "pygments_lexer": "ipython3",
   "version": "3.10.11"
  }
 },
 "nbformat": 4,
 "nbformat_minor": 2
}
